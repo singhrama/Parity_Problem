{
 "cells": [
  {
   "cell_type": "code",
   "execution_count": 1,
   "id": "e6a1ee50",
   "metadata": {
    "id": "e6a1ee50"
   },
   "outputs": [],
   "source": [
    "import numpy as np\n",
    "from copy import deepcopy\n",
    "import matplotlib.pyplot as plt\n",
    "import pandas as pd\n",
    "import statistics\n",
    "\n",
    "import warnings\n",
    "warnings.filterwarnings('ignore')"
   ]
  },
  {
   "cell_type": "code",
   "execution_count": 2,
   "id": "0236d668",
   "metadata": {
    "id": "0236d668"
   },
   "outputs": [],
   "source": [
    "def layer(input_neurons, hidden_neurons):\n",
    "    return np.random.uniform(-1, 1, (input_neurons, hidden_neurons))       "
   ]
  },
  {
   "cell_type": "code",
   "execution_count": 3,
   "id": "6fee826a",
   "metadata": {
    "id": "6fee826a"
   },
   "outputs": [],
   "source": [
    "def dot_prod(inputs, weights):\n",
    "    return np.dot(weights.T, inputs)"
   ]
  },
  {
   "cell_type": "code",
   "execution_count": 4,
   "id": "690716ab",
   "metadata": {
    "id": "690716ab"
   },
   "outputs": [],
   "source": [
    "def Sigmoid(inputs):\n",
    "    return (1 / (1 + np.exp(-inputs)))"
   ]
  },
  {
   "cell_type": "code",
   "execution_count": 5,
   "id": "3d0a16a6",
   "metadata": {
    "id": "3d0a16a6"
   },
   "outputs": [],
   "source": [
    "def randomize_dataset(inputs, targets):\n",
    "    dataset = np.concatenate((inputs.T, targets.T), axis=1)\n",
    "    np.random.shuffle(dataset)\n",
    "    return [np.array(dataset[:,0:5].T), np.array(dataset[:,5].T).reshape(1,16)]"
   ]
  },
  {
   "cell_type": "code",
   "execution_count": null,
   "id": "6a03cf77",
   "metadata": {
    "id": "6a03cf77"
   },
   "outputs": [],
   "source": []
  },
  {
   "cell_type": "code",
   "execution_count": 6,
   "id": "09bb5329",
   "metadata": {
    "id": "09bb5329"
   },
   "outputs": [],
   "source": [
    "def forwardProp(x, W_layers):\n",
    "    \n",
    "    layer_1 = dot_prod(x, W_layers[0])\n",
    "    activation_unit_1 = Sigmoid(layer_1)\n",
    "\n",
    "    layer_2 = dot_prod(np.insert(activation_unit_1,0,1,axis=0), W_layers[1])\n",
    "    activation_unit_2 = Sigmoid(layer_2)\n",
    "    \n",
    "    return [activation_unit_1] + [activation_unit_2]"
   ]
  },
  {
   "cell_type": "code",
   "execution_count": 7,
   "id": "40142fd5",
   "metadata": {
    "id": "40142fd5"
   },
   "outputs": [],
   "source": [
    "def backProp(x, Y, d_k, W, eta, delta_w, alpha):\n",
    "    \n",
    "    output_layer_values = Y[1]\n",
    "    hidden_layer_values = Y[0]\n",
    "    \n",
    "    # Back propogration - weight update rule\n",
    "    delta_k = output_layer_values * (1 - output_layer_values) * (d_k - output_layer_values)\n",
    "    delta_w[1] = eta * delta_k.T * np.insert(Y[0], 0, 1, axis=0) + (alpha * delta_w[1])\n",
    "\n",
    "    # Chain Rule\n",
    "    delta_j = hidden_layer_values * (1 - hidden_layer_values) * W[1][1:, :] * delta_k\n",
    "    delta_w[0] = eta * delta_j.T * x + (alpha * delta_w[0])\n",
    "\n",
    "    # Update the weights of the layers\n",
    "    W[0] += delta_w[0]\n",
    "    W[1] += delta_w[1]"
   ]
  },
  {
   "cell_type": "code",
   "execution_count": 8,
   "id": "1dc3f7ae",
   "metadata": {
    "id": "1dc3f7ae"
   },
   "outputs": [],
   "source": [
    "def mlp(X, y, W, eta, alpha):\n",
    "    epoch = 0\n",
    "    delta_w = [np.zeros(W[0].shape)] + [np.zeros(W[1].shape)]\n",
    "    errors = []\n",
    "    while True:\n",
    "        above_tresh = False\n",
    "        # Shuffling the data before each iteration\n",
    "        randomize = randomize_dataset(X, y)\n",
    "        X_epoch, y_epoch = randomize\n",
    "        \n",
    "        # Stochastically go through the dataset\n",
    "        err_list = []\n",
    "        for i in range(0,16):\n",
    "            error_epoch = 0\n",
    "\n",
    "            x = X_epoch[:,i].reshape(5,1)\n",
    "            Y = forwardProp(x,W)\n",
    "            \n",
    "            backProp(x, Y, np.reshape(y_epoch[:, i], (1, 1)), W, eta, delta_w, alpha)\n",
    "            \n",
    "            actual = y_epoch[:,i].tolist()[0]\n",
    "            predicted = Y[1].tolist()[0][0]\n",
    "\n",
    "            \n",
    "            error_epoch = abs(actual-predicted)\n",
    "            err_list.append(abs(actual-predicted))\n",
    "            # Check if error is within threshold in each iteration\n",
    "            if error_epoch<=0.05:\n",
    "                pass\n",
    "            else:\n",
    "                above_tresh = True\n",
    "                             \n",
    "        errors.append(np.mean(err_list))\n",
    "                \n",
    "        epoch += 1\n",
    "        if not above_tresh:\n",
    "            break\n",
    "\n",
    "    return [epoch,errors]"
   ]
  },
  {
   "cell_type": "code",
   "execution_count": 9,
   "id": "21cc9918",
   "metadata": {
    "id": "21cc9918"
   },
   "outputs": [],
   "source": [
    "#Input for Parity dataset along with bias term\n",
    "X = np.array([[0,0,0,0,1], \n",
    "    [0,0,0,1,1], \n",
    "    [0,0,1,0,1], \n",
    "    [0,0,1,1,1], \n",
    "    [0,1,0,0,1], \n",
    "    [0,1,0,1,1], \n",
    "    [0,1,1,0,1], \n",
    "    [0,1,1,1,1], \n",
    "    [1,0,0,0,1], \n",
    "    [1,0,0,1,1],\n",
    "    [1,0,1,0,1],\n",
    "    [1,0,1,1,1],\n",
    "    [1,1,0,0,1],\n",
    "    [1,1,0,1,1],\n",
    "    [1,1,1,0,1],\n",
    "    [1,1,1,1,1]],  dtype=np.float32).T\n",
    "\n",
    "#Target column\n",
    "y = np.array([[0], [1], [1], [0], [1], [0], [0], [1], [1], [0], [0], [1], [0], [1], [1], [0]],  dtype=np.float32).T\n",
    "\n",
    "# Initialize multi-layer perceptron\n",
    "layer_1 = layer(5, 4)\n",
    "layer_2 = layer(5, 1)\n",
    "\n",
    "W = [layer_1] + [layer_2]"
   ]
  },
  {
   "cell_type": "markdown",
   "id": "1cdaf927",
   "metadata": {
    "id": "1cdaf927"
   },
   "source": [
    "#### Finding convergence with different values of learning rate without Momentum term"
   ]
  },
  {
   "cell_type": "markdown",
   "id": "d8dfb71e",
   "metadata": {
    "id": "d8dfb71e"
   },
   "source": [
    "Number of epochs vs Error when Learning Rate = 0.05, Momentum = 0"
   ]
  },
  {
   "cell_type": "code",
   "execution_count": 10,
   "id": "ac090f57",
   "metadata": {
    "id": "ac090f57"
   },
   "outputs": [],
   "source": [
    "lr = 0.05;\n",
    "epoch_1, error_1 = mlp(X, y, deepcopy(W), lr, 0)"
   ]
  },
  {
   "cell_type": "code",
   "execution_count": 11,
   "id": "cd170b5c",
   "metadata": {
    "colab": {
     "base_uri": "https://localhost:8080/",
     "height": 313
    },
    "id": "cd170b5c",
    "outputId": "1dab4501-6179-41a7-9944-fbe81fac5830"
   },
   "outputs": [
    {
     "data": {
      "text/plain": [
       "[<matplotlib.lines.Line2D at 0x7f93a0733910>]"
      ]
     },
     "execution_count": 11,
     "metadata": {},
     "output_type": "execute_result"
    },
    {
     "data": {
      "image/png": "[encoded data removed]",
      "text/plain": [
       "<Figure size 432x288 with 1 Axes>"
      ]
     },
     "metadata": {
      "needs_background": "light"
     },
     "output_type": "display_data"
    }
   ],
   "source": [
    "plt.title('Learning Rate = 0.05, Momentum = 0.0')\n",
    "plt.xlabel('Epochs')\n",
    "plt.ylabel('Error')\n",
    "plt.plot(range(1, epoch_1 +1,100), error_1[::100], color ='r');\n",
    "plt.plot(range(1, epoch_1 +1,100), error_1[::100], linestyle='dashed', linewidth=2, markersize=12)"
   ]
  },
  {
   "cell_type": "markdown",
   "id": "8537eebf",
   "metadata": {
    "id": "8537eebf"
   },
   "source": [
    "Number of epochs vs Error when Learning Rate = 0.1, Momentum = 0"
   ]
  },
  {
   "cell_type": "code",
   "execution_count": null,
   "id": "56a89ea8",
   "metadata": {
    "id": "56a89ea8"
   },
   "outputs": [],
   "source": [
    "lr = 0.1;\n",
    "epoch_2, error_2 = mlp(X, y, deepcopy(W), lr, 0)"
   ]
  },
  {
   "cell_type": "code",
   "execution_count": null,
   "id": "b5d88136",
   "metadata": {
    "colab": {
     "base_uri": "https://localhost:8080/",
     "height": 313
    },
    "id": "b5d88136",
    "outputId": "d7117ab9-7e0e-4339-baf2-1e37a6ec12f1"
   },
   "outputs": [],
   "source": [
    "plt.title('Learning Rate = 0.1, Momentum = 0.0')\n",
    "plt.xlabel('Epochs')\n",
    "plt.ylabel('Error')\n",
    "plt.plot(range(1, epoch_2 +1,100), error_2[::100], color ='r');\n",
    "plt.plot(range(1, epoch_2 +1,100), error_2[::100], linestyle='dashed', linewidth=2, markersize=12)"
   ]
  },
  {
   "cell_type": "markdown",
   "id": "0986ba7b",
   "metadata": {
    "id": "0986ba7b"
   },
   "source": [
    "Number of epochs vs Error when Learning Rate = 0.15, Momentum = 0"
   ]
  },
  {
   "cell_type": "code",
   "execution_count": null,
   "id": "8f975d46",
   "metadata": {
    "id": "8f975d46"
   },
   "outputs": [],
   "source": [
    "lr = 0.15;\n",
    "epoch_3, error_3 = mlp(X, y, deepcopy(W), lr, 0)"
   ]
  },
  {
   "cell_type": "code",
   "execution_count": null,
   "id": "8f162ddb",
   "metadata": {
    "id": "8f162ddb"
   },
   "outputs": [],
   "source": [
    "plt.title('Learning Rate = 0.15, Momentum = 0.0')\n",
    "plt.xlabel('Epochs')\n",
    "plt.ylabel('Error')\n",
    "plt.plot(range(1, epoch_3 +1,100), error_3[::100], color ='r');\n",
    "plt.plot(range(1, epoch_3 +1,100), error_3[::100], linestyle='dashed', linewidth=2, markersize=12)"
   ]
  },
  {
   "cell_type": "markdown",
   "id": "be97b348",
   "metadata": {
    "id": "be97b348"
   },
   "source": [
    "Number of epochs vs Error when Learning Rate = 0.2, Momentum = 0"
   ]
  },
  {
   "cell_type": "code",
   "execution_count": null,
   "id": "74159ca9",
   "metadata": {
    "id": "74159ca9"
   },
   "outputs": [],
   "source": [
    "lr = 0.2;\n",
    "epoch_4, error_4 = mlp(X, y, deepcopy(W), lr, 0)"
   ]
  },
  {
   "cell_type": "code",
   "execution_count": null,
   "id": "512b40c7",
   "metadata": {
    "id": "512b40c7"
   },
   "outputs": [],
   "source": [
    "plt.title('Learning Rate = 0.2, Momentum = 0.0')\n",
    "plt.xlabel('Epochs')\n",
    "plt.ylabel('Error')\n",
    "plt.plot(range(1, epoch_4 +1,100), error_4[::100], color ='r');\n",
    "plt.plot(range(1, epoch_4 +1,100), error_4[::100], linestyle='dashed', linewidth=2, markersize=12)"
   ]
  },
  {
   "cell_type": "markdown",
   "id": "675b6013",
   "metadata": {
    "id": "675b6013"
   },
   "source": [
    "Number of epochs vs Error when Learning Rate = 0.25, Momentum = 0"
   ]
  },
  {
   "cell_type": "code",
   "execution_count": null,
   "id": "7a43f6da",
   "metadata": {
    "id": "7a43f6da"
   },
   "outputs": [],
   "source": [
    "lr = 0.25;\n",
    "epoch_5, error_5 = mlp(X, y, deepcopy(W), lr, 0)"
   ]
  },
  {
   "cell_type": "code",
   "execution_count": null,
   "id": "695d9e6a",
   "metadata": {
    "id": "695d9e6a"
   },
   "outputs": [],
   "source": [
    "plt.title('Learning Rate = 0.25, Momentum = 0.0')\n",
    "plt.xlabel('Epochs')\n",
    "plt.ylabel('Error')\n",
    "plt.plot(range(1, epoch_5 +1,100), error_5[::100], color ='r');\n",
    "plt.plot(range(1, epoch_5 +1,100), error_5[::100], linestyle='dashed', linewidth=2, markersize=12)"
   ]
  },
  {
   "cell_type": "markdown",
   "id": "31c0d83f",
   "metadata": {
    "id": "31c0d83f"
   },
   "source": [
    "Number of epochs vs Error when Learning Rate = 0.3, Momentum = 0"
   ]
  },
  {
   "cell_type": "code",
   "execution_count": null,
   "id": "f549bcb8",
   "metadata": {
    "id": "f549bcb8"
   },
   "outputs": [],
   "source": [
    "lr = 0.3;\n",
    "epoch_6, error_6 = mlp(X, y, deepcopy(W), lr, 0)"
   ]
  },
  {
   "cell_type": "code",
   "execution_count": null,
   "id": "6e86cf2d",
   "metadata": {
    "id": "6e86cf2d"
   },
   "outputs": [],
   "source": [
    "plt.title('Learning Rate = 0.3, Momentum = 0.0')\n",
    "plt.xlabel('Epochs')\n",
    "plt.ylabel('Error')\n",
    "plt.plot(range(1, epoch_6 +1,100), error_6[::100], color ='r');\n",
    "plt.plot(range(1, epoch_6 +1,100), error_6[::100], linestyle='dashed', linewidth=2, markersize=12)"
   ]
  },
  {
   "cell_type": "markdown",
   "id": "02f3ee8a",
   "metadata": {
    "id": "02f3ee8a"
   },
   "source": [
    "Number of epochs vs Error when Learning Rate = 0.35, Momentum = 0"
   ]
  },
  {
   "cell_type": "code",
   "execution_count": null,
   "id": "fb6b33c4",
   "metadata": {
    "id": "fb6b33c4"
   },
   "outputs": [],
   "source": [
    "lr = 0.35;\n",
    "epoch_7, error_7 = mlp(X, y, deepcopy(W), lr, 0)"
   ]
  },
  {
   "cell_type": "code",
   "execution_count": null,
   "id": "1f19cbfd",
   "metadata": {
    "id": "1f19cbfd"
   },
   "outputs": [],
   "source": [
    "plt.title('Learning Rate = 0.35, Momentum = 0.0')\n",
    "plt.xlabel('Epochs')\n",
    "plt.ylabel('Error')\n",
    "plt.plot(range(1, epoch_7 +1,100), error_7[::100], color ='r');\n",
    "plt.plot(range(1, epoch_7 +1,100), error_7[::100], linestyle='dashed', linewidth=2, markersize=12)"
   ]
  },
  {
   "cell_type": "markdown",
   "id": "11d34100",
   "metadata": {
    "id": "11d34100"
   },
   "source": [
    "Number of epochs vs Error when Learning Rate = 0.4, Momentum = 0"
   ]
  },
  {
   "cell_type": "code",
   "execution_count": null,
   "id": "08f0f124",
   "metadata": {
    "id": "08f0f124"
   },
   "outputs": [],
   "source": [
    "lr = 0.4;\n",
    "epoch_8, error_8 = mlp(X, y, deepcopy(W), lr, 0)"
   ]
  },
  {
   "cell_type": "code",
   "execution_count": null,
   "id": "ce156cad",
   "metadata": {
    "id": "ce156cad"
   },
   "outputs": [],
   "source": [
    "plt.title('Learning Rate = 0.4, Momentum = 0.0')\n",
    "plt.xlabel('Epochs')\n",
    "plt.ylabel('Error')\n",
    "plt.plot(range(1, epoch_8 +1,100), error_8[::100], color ='r');\n",
    "plt.plot(range(1, epoch_8 +1,100), error_8[::100], linestyle='dashed', linewidth=2, markersize=12)"
   ]
  },
  {
   "cell_type": "markdown",
   "id": "3fd67650",
   "metadata": {
    "id": "3fd67650"
   },
   "source": [
    "Number of epochs vs Error when Learning Rate = 0.45, Momentum = 0"
   ]
  },
  {
   "cell_type": "code",
   "execution_count": null,
   "id": "5dac8b0d",
   "metadata": {
    "id": "5dac8b0d"
   },
   "outputs": [],
   "source": [
    "lr = 0.45;\n",
    "epoch_9, error_9 = mlp(X, y, deepcopy(W), lr, 0)"
   ]
  },
  {
   "cell_type": "code",
   "execution_count": null,
   "id": "18daf0d9",
   "metadata": {
    "id": "18daf0d9"
   },
   "outputs": [],
   "source": [
    "plt.title('Learning Rate = 0.45, Momentum = 0.0')\n",
    "plt.xlabel('Epochs')\n",
    "plt.ylabel('Error')\n",
    "plt.plot(range(1, epoch_9 +1,100), error_9[::100], color ='r');\n",
    "plt.plot(range(1, epoch_9 +1,100), error_9[::100], linestyle='dashed', linewidth=2, markersize=12)"
   ]
  },
  {
   "cell_type": "markdown",
   "id": "47987c8f",
   "metadata": {
    "id": "47987c8f"
   },
   "source": [
    "Number of epochs vs Error when Learning Rate = 0.5, Momentum = 0"
   ]
  },
  {
   "cell_type": "code",
   "execution_count": null,
   "id": "de47fc38",
   "metadata": {
    "id": "de47fc38"
   },
   "outputs": [],
   "source": [
    "lr = 0.5;\n",
    "epoch_10, error_10 = mlp(X, y, deepcopy(W), lr, 0)"
   ]
  },
  {
   "cell_type": "code",
   "execution_count": null,
   "id": "f0316a1a",
   "metadata": {
    "id": "f0316a1a"
   },
   "outputs": [],
   "source": [
    "plt.title('Learning Rate = 0.5, Momentum = 0.0')\n",
    "plt.xlabel('Epochs')\n",
    "plt.ylabel('Error')\n",
    "plt.plot(range(1, epoch_10 +1,100), error_10[::100], color ='r');\n",
    "plt.plot(range(1, epoch_10 +1,100), error_10[::100], linestyle='dashed', linewidth=2, markersize=12)"
   ]
  },
  {
   "cell_type": "code",
   "execution_count": null,
   "id": "f1fab772",
   "metadata": {
    "id": "f1fab772"
   },
   "outputs": [],
   "source": []
  },
  {
   "cell_type": "markdown",
   "id": "b09e988e",
   "metadata": {
    "id": "b09e988e"
   },
   "source": [
    "#### Analysis"
   ]
  },
  {
   "cell_type": "code",
   "execution_count": null,
   "id": "58f4e859",
   "metadata": {
    "id": "58f4e859"
   },
   "outputs": [],
   "source": [
    "epoch_list = [epoch_1,epoch_2,epoch_3,epoch_4,epoch_5,epoch_6,epoch_7,epoch_8,epoch_9,epoch_10]\n",
    "lr = [0.05*i for i in range(1,11)]"
   ]
  },
  {
   "cell_type": "code",
   "execution_count": null,
   "id": "9f28bccd",
   "metadata": {
    "id": "9f28bccd"
   },
   "outputs": [],
   "source": [
    "epoch_df = pd.DataFrame(epoch_list, lr)\n",
    "epoch_df.columns = ['Epochs']\n",
    "epoch_df"
   ]
  },
  {
   "cell_type": "markdown",
   "id": "67100aa2",
   "metadata": {
    "id": "67100aa2"
   },
   "source": [
    "#### Vary the value of η from 0.05 to 0.5 using an increment of 0.05, and report the number of epochs needed for each choice of η. Also generate learning curve plots for each case. Discusshow the value of η influences convergence.\n",
    "\n",
    "As the learning rate increases, we see that the network is converging faster or in lesser epochs. Initially when the learning rate = 0.05 the network takes the most number of epochs to converge. Most of the times the network gets stuck at a local minima and takes some iterations to get away from it. As learning rate increases we see that the network is breaking from this local minima in a faster way."
   ]
  },
  {
   "cell_type": "markdown",
   "id": "3c4d4010",
   "metadata": {
    "id": "3c4d4010"
   },
   "source": [
    "### Finding convergence with different values of learning rate with Momentum term"
   ]
  },
  {
   "cell_type": "markdown",
   "id": "03de1566",
   "metadata": {
    "id": "03de1566"
   },
   "source": [
    "Number of epochs vs Error when Learning Rate = 0.05, Momentum = 0"
   ]
  },
  {
   "cell_type": "code",
   "execution_count": null,
   "id": "b24f2400",
   "metadata": {
    "id": "b24f2400"
   },
   "outputs": [],
   "source": [
    "lr = 0.05;\n",
    "epoch_11, error_11 = mlp(X, y, deepcopy(W), lr, 0.9)"
   ]
  },
  {
   "cell_type": "code",
   "execution_count": null,
   "id": "UQanpUPaa481",
   "metadata": {
    "id": "UQanpUPaa481",
    "outputId": "17f713a9-ce06-4a02-e34d-8c637a6d0423"
   },
   "outputs": [],
   "source": [
    "plt.title('Learning Rate = 0.05, Momentum = 0.9')\n",
    "plt.xlabel('Epochs')\n",
    "plt.ylabel('Error')\n",
    "plt.plot(range(1, epoch_11 +1,100), error_11[::100], color ='g');\n",
    "plot(range(1, epoch_11 +1,100), error_11[::100], linestyle='dashed', linewidth=2, markersize=12)"
   ]
  },
  {
   "cell_type": "markdown",
   "id": "bfaf8d07",
   "metadata": {
    "id": "bfaf8d07"
   },
   "source": [
    "Number of epochs vs Error when Learning Rate = 0.1, Momentum = 0.9"
   ]
  },
  {
   "cell_type": "code",
   "execution_count": null,
   "id": "b6e4e32d",
   "metadata": {
    "id": "b6e4e32d"
   },
   "outputs": [],
   "source": [
    "lr = 0.1;\n",
    "epoch_12, error_12 = mlp(X, y, deepcopy(W), lr, 0.9)"
   ]
  },
  {
   "cell_type": "code",
   "execution_count": null,
   "id": "19f496e0",
   "metadata": {
    "id": "19f496e0"
   },
   "outputs": [],
   "source": [
    "plt.title('Learning Rate = 0.1, Momentum = 0.9')\n",
    "plt.xlabel('Epochs')\n",
    "plt.ylabel('Error')\n",
    "plt.plot(range(1, epoch_12 +1,100), error_12[::100], color ='g');\n",
    "plot(range(1, epoch_12 +1,100), error_12[::100], linestyle='dashed', linewidth=2, markersize=12)"
   ]
  },
  {
   "cell_type": "markdown",
   "id": "41a31fe5",
   "metadata": {
    "id": "41a31fe5"
   },
   "source": [
    "Number of epochs vs Error when Learning Rate = 0.15, Momentum = 0.9"
   ]
  },
  {
   "cell_type": "code",
   "execution_count": null,
   "id": "02da7e76",
   "metadata": {
    "id": "02da7e76"
   },
   "outputs": [],
   "source": [
    "lr = 0.15;\n",
    "epoch_13, error_13 = mlp(X, y, deepcopy(W), lr, 0.9)"
   ]
  },
  {
   "cell_type": "code",
   "execution_count": null,
   "id": "ff164972",
   "metadata": {
    "id": "ff164972"
   },
   "outputs": [],
   "source": [
    "plt.title('Learning Rate = 0.15, Momentum = 0.9')\n",
    "plt.xlabel('Epochs')\n",
    "plt.ylabel('Error')\n",
    "plt.plot(range(1, epoch_13 +1,100), error_13[::100], color ='g');\n",
    "plot(range(1, epoch_13 +1,100), error_13[::100], linestyle='dashed', linewidth=2, markersize=12)"
   ]
  },
  {
   "cell_type": "markdown",
   "id": "e4fcc366",
   "metadata": {
    "id": "e4fcc366"
   },
   "source": [
    "Number of epochs vs Error when Learning Rate = 0.2, Momentum = 0.9"
   ]
  },
  {
   "cell_type": "code",
   "execution_count": null,
   "id": "5fd01681",
   "metadata": {
    "id": "5fd01681"
   },
   "outputs": [],
   "source": [
    "lr = 0.2;\n",
    "epoch_14, error_14 = mlp(X, y, deepcopy(W), lr, 0.9)"
   ]
  },
  {
   "cell_type": "code",
   "execution_count": null,
   "id": "ac5986ab",
   "metadata": {
    "id": "ac5986ab"
   },
   "outputs": [],
   "source": [
    "plt.title('Learning Rate = 0.2, Momentum = 0.9')\n",
    "plt.xlabel('Epochs')\n",
    "plt.ylabel('Error')\n",
    "plt.plot(range(1, epoch_14 +1,100), error_14[::100], color ='g');\n",
    "plot(range(1, epoch_14 +1,100), error_14[::100], linestyle='dashed', linewidth=2, markersize=12)"
   ]
  },
  {
   "cell_type": "markdown",
   "id": "7457c9d2",
   "metadata": {
    "id": "7457c9d2"
   },
   "source": [
    "Number of epochs vs Error when Learning Rate = 0.25, Momentum = 0.9"
   ]
  },
  {
   "cell_type": "code",
   "execution_count": null,
   "id": "c0cb2f01",
   "metadata": {
    "id": "c0cb2f01"
   },
   "outputs": [],
   "source": [
    "lr = 0.25;\n",
    "epoch_15, error_15 = mlp(X, y, deepcopy(W), lr, 0.9)"
   ]
  },
  {
   "cell_type": "code",
   "execution_count": null,
   "id": "d3414399",
   "metadata": {
    "id": "d3414399"
   },
   "outputs": [],
   "source": [
    "plt.title('Learning Rate = 0.25, Momentum = 0.9')\n",
    "plt.xlabel('Epochs')\n",
    "plt.ylabel('Error')\n",
    "plt.plot(range(1, epoch_15 +1,100), error_15[::100], color ='g');\n",
    "plot(range(1, epoch_15 +1,100), error_15[::100], linestyle='dashed', linewidth=2, markersize=12)"
   ]
  },
  {
   "cell_type": "markdown",
   "id": "b11cf520",
   "metadata": {
    "id": "b11cf520"
   },
   "source": [
    "Number of epochs vs Error when Learning Rate = 0.3, Momentum = 0.9"
   ]
  },
  {
   "cell_type": "code",
   "execution_count": null,
   "id": "cea5bfb3",
   "metadata": {
    "id": "cea5bfb3"
   },
   "outputs": [],
   "source": [
    "lr = 0.3;\n",
    "epoch_16, error_16 = mlp(X, y, deepcopy(W), lr, 0.9)"
   ]
  },
  {
   "cell_type": "code",
   "execution_count": null,
   "id": "628fa874",
   "metadata": {
    "id": "628fa874"
   },
   "outputs": [],
   "source": [
    "plt.title('Learning Rate = 0.3, Momentum = 0.9')\n",
    "plt.xlabel('Epochs')\n",
    "plt.ylabel('Error')\n",
    "plt.plot(range(1, epoch_16 +1,100), error_16[::100], color ='g');\n",
    "plot(range(1, epoch_16 +1,100), error_16[::100], linestyle='dashed', linewidth=2, markersize=12)"
   ]
  },
  {
   "cell_type": "markdown",
   "id": "3eed5c8b",
   "metadata": {
    "id": "3eed5c8b"
   },
   "source": [
    "Number of epochs vs Error when Learning Rate = 0.35, Momentum = 0.9"
   ]
  },
  {
   "cell_type": "code",
   "execution_count": null,
   "id": "d11715ad",
   "metadata": {
    "id": "d11715ad"
   },
   "outputs": [],
   "source": [
    "lr = 0.35;\n",
    "epoch_17, error_17 = mlp(X, y, deepcopy(W), lr, 0.9)"
   ]
  },
  {
   "cell_type": "code",
   "execution_count": null,
   "id": "fb217d33",
   "metadata": {
    "id": "fb217d33"
   },
   "outputs": [],
   "source": [
    "plt.title('Learning Rate = 0.35, Momentum = 0.9')\n",
    "plt.xlabel('Epochs')\n",
    "plt.ylabel('Error')\n",
    "plt.plot(range(1, epoch_17 +1,100), error_17[::100], color ='g');\n",
    "plot(range(1, epoch_17 +1,100), error_17[::100], linestyle='dashed', linewidth=2, markersize=12)"
   ]
  },
  {
   "cell_type": "markdown",
   "id": "e3cfce47",
   "metadata": {
    "id": "e3cfce47"
   },
   "source": [
    "Number of epochs vs Error when Learning Rate = 0.4, Momentum = 0.9"
   ]
  },
  {
   "cell_type": "code",
   "execution_count": null,
   "id": "a87ba1fc",
   "metadata": {
    "id": "a87ba1fc"
   },
   "outputs": [],
   "source": [
    "lr = 0.4;\n",
    "epoch_18, error_18 = mlp(X, y, deepcopy(W), lr, 0.9)"
   ]
  },
  {
   "cell_type": "code",
   "execution_count": null,
   "id": "a61a2b57",
   "metadata": {
    "id": "a61a2b57"
   },
   "outputs": [],
   "source": [
    "plt.title('Learning Rate = 0.4, Momentum = 0.9')\n",
    "plt.xlabel('Epochs')\n",
    "plt.ylabel('Error')\n",
    "plt.plot(range(1, epoch_18 +1,100), error_18[::100], color ='g');\n",
    "plot(range(1, epoch_18 +1,100), error_18[::100], linestyle='dashed', linewidth=2, markersize=12)"
   ]
  },
  {
   "cell_type": "markdown",
   "id": "5a0e992f",
   "metadata": {
    "id": "5a0e992f"
   },
   "source": [
    "Number of epochs vs Error when Learning Rate = 0.45, Momentum = 0.9"
   ]
  },
  {
   "cell_type": "code",
   "execution_count": null,
   "id": "79af65b1",
   "metadata": {
    "id": "79af65b1"
   },
   "outputs": [],
   "source": [
    "lr = 0.45;\n",
    "epoch_19, error_19 = mlp(X, y, deepcopy(W), lr, 0.9)"
   ]
  },
  {
   "cell_type": "code",
   "execution_count": null,
   "id": "f073786d",
   "metadata": {
    "id": "f073786d"
   },
   "outputs": [],
   "source": [
    "plt.title('Learning Rate = 0.45, Momentum = 0.9')\n",
    "plt.xlabel('Epochs')\n",
    "plt.ylabel('Error')\n",
    "plt.plot(range(1, epoch_19 +1,100), error_19[::100], color ='g');\n",
    "plot(range(1, epoch_19 +1,100), error_19[::100], linestyle='dashed', linewidth=2, markersize=12)"
   ]
  },
  {
   "cell_type": "markdown",
   "id": "c3d60531",
   "metadata": {
    "id": "c3d60531"
   },
   "source": [
    "Number of epochs vs Error when Learning Rate = 0.5, Momentum = 0.9"
   ]
  },
  {
   "cell_type": "code",
   "execution_count": null,
   "id": "93fec586",
   "metadata": {
    "id": "93fec586"
   },
   "outputs": [],
   "source": [
    "lr = 0.5;\n",
    "epoch_20, error_20 = mlp(X, y, deepcopy(W), lr, 0.9)"
   ]
  },
  {
   "cell_type": "code",
   "execution_count": null,
   "id": "f0a5941a",
   "metadata": {
    "id": "f0a5941a"
   },
   "outputs": [],
   "source": [
    "plt.title('Learning Rate = 0.5, Momentum = 0.9')\n",
    "plt.xlabel('Epochs')\n",
    "plt.ylabel('Error')\n",
    "plt.plot(range(1, epoch_20 +1,100), error_20[::100], color ='g');\n",
    "plot(range(1, epoch_20 +1,100), error_20[::100], linestyle='dashed', linewidth=2, markersize=12)"
   ]
  },
  {
   "cell_type": "code",
   "execution_count": null,
   "id": "49a803c2",
   "metadata": {
    "id": "49a803c2"
   },
   "outputs": [],
   "source": []
  },
  {
   "cell_type": "markdown",
   "id": "8c9cbc26",
   "metadata": {
    "id": "8c9cbc26"
   },
   "source": [
    "#### Analysis"
   ]
  },
  {
   "cell_type": "code",
   "execution_count": null,
   "id": "b8d12282",
   "metadata": {
    "id": "b8d12282"
   },
   "outputs": [],
   "source": [
    "epoch_list = [epoch_11,epoch_12,epoch_13,epoch_14,epoch_15,epoch_16,epoch_17,epoch_18,epoch_19,epoch_20]\n",
    "lr = [0.05*i for i in range(1,11)]"
   ]
  },
  {
   "cell_type": "code",
   "execution_count": null,
   "id": "0a66646c",
   "metadata": {
    "id": "0a66646c"
   },
   "outputs": [],
   "source": [
    "epoch_df = pd.DataFrame(epoch_list, lr)\n",
    "epoch_df.columns = ['Epochs']\n",
    "epoch_df"
   ]
  },
  {
   "cell_type": "markdown",
   "id": "718a8a16",
   "metadata": {
    "id": "718a8a16"
   },
   "source": [
    "#### Include a momentum term in the weight update with α = 0.9 and report its effect on the speed of training for each value of η.\n",
    "\n",
    "As we can see the momentum term is helping in faster convergence in the network when compared to the network before. The network converges faster and also shows a similar trend with respect to the learning rate. As the learning rate increases, the number of epochs is showing a slight downtrend. The highest value of epochs is observed at learning rate = 0.05"
   ]
  },
  {
   "cell_type": "markdown",
   "id": "814c09ea",
   "metadata": {
    "id": "814c09ea"
   },
   "source": [
    "#### Let us experiment with 16 neurons"
   ]
  },
  {
   "cell_type": "code",
   "execution_count": null,
   "id": "xMldFgUaejbf",
   "metadata": {
    "id": "xMldFgUaejbf"
   },
   "outputs": [],
   "source": [
    "# Initialize multi-layer perceptron\n",
    "layer_1 = layer(5, 16)\n",
    "layer_2 = layer(17, 1)\n",
    "\n",
    "W = [layer_1] + [layer_2]"
   ]
  },
  {
   "cell_type": "code",
   "execution_count": null,
   "id": "NeiEAT9-e9n1",
   "metadata": {
    "id": "NeiEAT9-e9n1"
   },
   "outputs": [],
   "source": [
    "lr = 0.25;\n",
    "epoch_exp_16_.25, error_exp_16_.25 = mlp(X, y, deepcopy(W), lr, 0)"
   ]
  },
  {
   "cell_type": "code",
   "execution_count": null,
   "id": "sCT2FgroflcH",
   "metadata": {
    "id": "sCT2FgroflcH"
   },
   "outputs": [],
   "source": [
    "plt.title('Neurons = 16, Learning Rate = 0.25')\n",
    "plt.xlabel('Epochs')\n",
    "plt.ylabel('Error')\n",
    "plt.plot(range(1, epoch_exp_16_.25 +1,100), error_exp_16_.25[::100], color ='red');"
   ]
  },
  {
   "cell_type": "code",
   "execution_count": null,
   "id": "CVuZ4MeqgBTd",
   "metadata": {
    "id": "CVuZ4MeqgBTd"
   },
   "outputs": [],
   "source": [
    "lr = 0.35;\n",
    "epoch_exp_16_.35, error_exp_16_.35 = mlp(X, y, deepcopy(W), lr, 0)"
   ]
  },
  {
   "cell_type": "code",
   "execution_count": null,
   "id": "LU9UZEMwgBTd",
   "metadata": {
    "id": "LU9UZEMwgBTd"
   },
   "outputs": [],
   "source": [
    "plt.title('Neurons = 16, Learning Rate = 0.35')\n",
    "plt.xlabel('Epochs')\n",
    "plt.ylabel('Error')\n",
    "plt.plot(range(1, epoch_exp_16_.35 +1,100), error_exp_16_.35[::100], color ='red');"
   ]
  },
  {
   "cell_type": "code",
   "execution_count": null,
   "id": "yNyViXmMgIL2",
   "metadata": {
    "id": "yNyViXmMgIL2"
   },
   "outputs": [],
   "source": [
    "lr = 0.45;\n",
    "epoch_exp_16_.45, error_exp_16_.45 = mlp(X, y, deepcopy(W), lr, 0)"
   ]
  },
  {
   "cell_type": "code",
   "execution_count": null,
   "id": "sWV1w0jngIL2",
   "metadata": {
    "id": "sWV1w0jngIL2"
   },
   "outputs": [],
   "source": [
    "plt.title('Neurons = 16, Learning Rate = 0.45')\n",
    "plt.xlabel('Epochs')\n",
    "plt.ylabel('Error')\n",
    "plt.plot(range(1, epoch_exp_16_.45 +1,100), error_exp_16_.45[::100], color ='red');"
   ]
  },
  {
   "cell_type": "markdown",
   "id": "6d5ee373",
   "metadata": {
    "id": "6d5ee373"
   },
   "source": [
    "#### Let us experiment with 32 neurons"
   ]
  },
  {
   "cell_type": "code",
   "execution_count": null,
   "id": "6f642048",
   "metadata": {
    "id": "6f642048"
   },
   "outputs": [],
   "source": [
    "# Initialize multi-layer perceptron\n",
    "layer_1 = layer(5, 32)\n",
    "layer_2 = layer(33, 1)\n",
    "\n",
    "W = [layer_1] + [layer_2]"
   ]
  },
  {
   "cell_type": "code",
   "execution_count": null,
   "id": "fcad1af3",
   "metadata": {
    "id": "fcad1af3"
   },
   "outputs": [],
   "source": [
    "lr = 0.25;\n",
    "epoch_exp_32_.25, error_exp_32_.25 = mlp(X, y, deepcopy(W), lr, 0)"
   ]
  },
  {
   "cell_type": "code",
   "execution_count": null,
   "id": "20897ac6",
   "metadata": {
    "id": "20897ac6"
   },
   "outputs": [],
   "source": [
    "plt.title('Neurons = 32, Learning Rate = 0.25')\n",
    "plt.xlabel('Epochs')\n",
    "plt.ylabel('Error')\n",
    "plt.plot(range(1, epoch_exp_32_05+1,100), error_exp_32_05[::100], color ='green');"
   ]
  },
  {
   "cell_type": "code",
   "execution_count": null,
   "id": "386d6d41",
   "metadata": {
    "id": "386d6d41"
   },
   "outputs": [],
   "source": [
    "lr = 0.35;\n",
    "epoch_exp_32_.35, error_exp_32_.35 = mlp(X, y, deepcopy(W), lr, 0)"
   ]
  },
  {
   "cell_type": "code",
   "execution_count": null,
   "id": "ea337cc0",
   "metadata": {
    "id": "ea337cc0"
   },
   "outputs": [],
   "source": [
    "plt.title('Neurons = 32, Learning Rate = 0.35')\n",
    "plt.xlabel('Epochs')\n",
    "plt.ylabel('Error')\n",
    "plt.plot(range(1, epoch_exp_32_.35+1,100), error_exp_32_.35[::100], color ='green')"
   ]
  },
  {
   "cell_type": "code",
   "execution_count": null,
   "id": "cd2ec925",
   "metadata": {
    "id": "cd2ec925"
   },
   "outputs": [],
   "source": [
    "lr = 0.45;\n",
    "epoch_exp_32_.45, error_exp_32_.45 = runner(X, y, deepcopy(W), lr, 0)"
   ]
  },
  {
   "cell_type": "code",
   "execution_count": null,
   "id": "c69afadd",
   "metadata": {
    "id": "c69afadd"
   },
   "outputs": [],
   "source": [
    "plt.title('Neurons = 32, Learning Rate = 0.45')\n",
    "plt.xlabel('Epochs')\n",
    "plt.ylabel('Error')\n",
    "plt.plot(range(1, epoch_exp_32_.45 +1,100), error_exp_32_.45[::100], color ='green');"
   ]
  },
  {
   "cell_type": "markdown",
   "id": "jT0TIJdNa488",
   "metadata": {
    "id": "jT0TIJdNa488"
   },
   "source": [
    "#### Vary the value of η from 0.05 to 0.5 using an increment of 0.05, and report the number of epochs needed for each choice of η. Also generate learning curve plots for each case. Discusshow the value of η influences convergence.\n",
    "\n",
    "As the learning rate increases, we see that the network is converging faster or in lesser epochs. Initially when the learning rate = 0.05 the network takes the most number of epochs to converge. Most of the times the network gets stuck at a local minima and takes some iterations to get away from it. As learning rate increases we see that the network is breaking from this local minima in a faster way."
   ]
  }
 ],
 "metadata": {
  "accelerator": "GPU",
  "colab": {
   "collapsed_sections": [
    "67100aa2",
    "718a8a16"
   ],
   "name": "AML HW3 Q1 Last.ipynb",
   "provenance": []
  },
  "kernelspec": {
   "display_name": "Python 3 (ipykernel)",
   "language": "python",
   "name": "python3"
  },
  "language_info": {
   "codemirror_mode": {
    "name": "ipython",
    "version": 3
   },
   "file_extension": ".py",
   "mimetype": "text/x-python",
   "name": "python",
   "nbconvert_exporter": "python",
   "pygments_lexer": "ipython3",
   "version": "3.9.7"
  }
 },
 "nbformat": 4,
 "nbformat_minor": 5
}
